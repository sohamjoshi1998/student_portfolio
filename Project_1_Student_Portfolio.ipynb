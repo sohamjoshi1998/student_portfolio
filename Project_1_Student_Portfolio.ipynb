{
 "cells": [
  {
   "cell_type": "markdown",
   "id": "ef7314de",
   "metadata": {},
   "source": [
    "## Project 1 :\n",
    "\n",
    "### STUDENT PORTFOLIO"
   ]
  },
  {
   "cell_type": "code",
   "execution_count": 16,
   "id": "9d688ae2",
   "metadata": {},
   "outputs": [
    {
     "name": "stdout",
     "output_type": "stream",
     "text": [
      "Enter your details according to the given instructions at each step :\n"
     ]
    }
   ],
   "source": [
    "print(\"Enter your details according to the given instructions at each step :\")"
   ]
  },
  {
   "cell_type": "markdown",
   "id": "fad7a74a",
   "metadata": {},
   "source": [
    "#### Personal Details:"
   ]
  },
  {
   "cell_type": "code",
   "execution_count": 4,
   "id": "e989ec8c",
   "metadata": {},
   "outputs": [
    {
     "name": "stdout",
     "output_type": "stream",
     "text": [
      "Enter your first name\n",
      "Soham\n",
      "Enter your last name\n",
      "Joshi\n",
      "Your name is  Soham Joshi\n"
     ]
    }
   ],
   "source": [
    "first_name = str(input(\"Enter your first name\\n\"))\n",
    "last_name = str(input(\"Enter your last name\\n\"))\n",
    "print(\"Your name is \",first_name,last_name)"
   ]
  },
  {
   "cell_type": "code",
   "execution_count": 17,
   "id": "1ec30530",
   "metadata": {},
   "outputs": [
    {
     "name": "stdout",
     "output_type": "stream",
     "text": [
      "Enter your contact number 10-digit\n",
      "7653489\n",
      "Invalid number\n",
      "\n",
      "Enter your contact number 10-digit\n",
      "9876316798\n",
      "Mobile No:  9876316798\n"
     ]
    }
   ],
   "source": [
    "contact_no = str(input(\"Enter your contact number 10-digit\\n\"))\n",
    "while(len(contact_no)!=10):\n",
    "    print(\"Invalid number\\n\")\n",
    "    contact_no = str(input(\"Enter your contact number 10-digit\\n\"))\n",
    "\n",
    "print(\"Mobile No: \",contact_no)"
   ]
  },
  {
   "cell_type": "markdown",
   "id": "01849ae3",
   "metadata": {},
   "source": [
    "#### Education:"
   ]
  },
  {
   "cell_type": "code",
   "execution_count": 10,
   "id": "21c9f62c",
   "metadata": {},
   "outputs": [
    {
     "name": "stdout",
     "output_type": "stream",
     "text": [
      "Enter the name of your university\n",
      "NITK\n"
     ]
    }
   ],
   "source": [
    "university_name= str(input(\"Enter the name of your university\\n\"))"
   ]
  },
  {
   "cell_type": "code",
   "execution_count": 21,
   "id": "517cd64d",
   "metadata": {},
   "outputs": [
    {
     "name": "stdout",
     "output_type": "stream",
     "text": [
      "Which class do you study in?\n",
      "12\n",
      "Which division do you belong to? A/B/C/D\n",
      "B\n",
      "Enter your 5-digit roll. no.\n",
      "54321\n"
     ]
    }
   ],
   "source": [
    "std = int(input(\"Which class do you study in?\\n\"))\n",
    "div = str(input(\"Which division do you belong to? A/B/C/D\\n\"))\n",
    "roll_no = int(input(\"Enter your 5-digit roll. no.\\n\"))"
   ]
  },
  {
   "cell_type": "code",
   "execution_count": 15,
   "id": "9035a72d",
   "metadata": {},
   "outputs": [
    {
     "name": "stdout",
     "output_type": "stream",
     "text": [
      "Enter your Physics marks out of 100\n",
      "56\n",
      "Enter your Chemistry marks out of 100\n",
      "76\n",
      "Enter your Mathematics marks out of 100\n",
      "87\n",
      "Total marks obtained :  219\n",
      "Percentage obtained :  73.0 %\n",
      "Remarks : Passed\n"
     ]
    }
   ],
   "source": [
    "physics = int(input(\"Enter your Physics marks out of 100\\n\"))\n",
    "while physics>100:\n",
    "    print(\"Invalid marks\")\n",
    "    physics = int(input(\"Enter valid Physics marks again\\n\"))\n",
    "    \n",
    "chemistry = int(input(\"Enter your Chemistry marks out of 100\\n\"))\n",
    "while chemistry>100:\n",
    "    print(\"Invalid marks\")\n",
    "    physics = int(input(\"Enter valid Chemistry marks again\\n\"))\n",
    "\n",
    "maths = int(input(\"Enter your Mathematics marks out of 100\\n\"))\n",
    "while maths>100:\n",
    "    print(\"Invalid marks\")\n",
    "    physics = int(input(\"Enter valid Mathematics marks again\\n\"))\n",
    "\n",
    "sum = physics + chemistry + maths\n",
    "print(\"Total marks obtained : \",sum)\n",
    "\n",
    "percentage = (sum/300) * 100\n",
    "print(\"Percentage obtained : \",round(percentage,2),\"%\")\n",
    "if(physics<35 or chemistry<35 or maths<35):\n",
    "    print(\"Remarks : Failed\")\n",
    "else:\n",
    "    print(\"Remarks : Passed\")"
   ]
  }
 ],
 "metadata": {
  "kernelspec": {
   "display_name": "Python 3",
   "language": "python",
   "name": "python3"
  },
  "language_info": {
   "codemirror_mode": {
    "name": "ipython",
    "version": 3
   },
   "file_extension": ".py",
   "mimetype": "text/x-python",
   "name": "python",
   "nbconvert_exporter": "python",
   "pygments_lexer": "ipython3",
   "version": "3.8.8"
  }
 },
 "nbformat": 4,
 "nbformat_minor": 5
}
